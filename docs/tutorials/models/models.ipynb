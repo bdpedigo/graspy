{
 "cells": [
  {
   "cell_type": "markdown",
   "metadata": {},
   "source": [
    "## Degree-corrected stochastic block model (DCSBM)\n",
    "\n",
    "$$ f(A; \\theta, B, \\pi) = f(A | P) f(P) $$\n",
    "$$ f(A | P) = \\prod_i \\prod_{i \\neq j} P_{ij}^{A_{ij}} (1-P_{ij})^{1-A_{ij}} $$\n",
    "$$ P_{ij} = \\theta_i \\theta_j B_{\\tau_i,\\tau_j}$$\n",
    "$$ f(P_ij) = $$\n",
    "\n",
    "new\n",
    "\n",
    "$$ f(A|\\theta, B, \\tau) = \\prod_{i \\neq j} (\\theta_i \\theta_j B_{\\tau_i,\\tau_j})^{A_{ij}} (1 - \\theta_i \\theta_j B_{\\tau_i,\\tau_j} )^{1 - A_{ij}}$$\n",
    "\n",
    "$$ f(A|\\theta, B, \\tau) = \\prod_{i \\neq j} (\\theta_i \\theta_j B_{\\tau_i,\\tau_j})^{A_{ij}} (1 - \\theta_i \\theta_j B_{\\tau_i,\\tau_j} )^{1 - A_{ij}}$$\n",
    "\n",
    "$$ f(A|\\theta, B, \\pi) = f_A(A|\\theta, B, \\tau) f_T(\\tau | \\pi) $$\n",
    "\n",
    "\n",
    "probability of observing these under the multinomial \n",
    "p(tau | pi) <- multinom"
   ]
  }
 ],
 "metadata": {
  "kernelspec": {
   "display_name": "Python 3",
   "language": "python",
   "name": "python3"
  },
  "language_info": {
   "codemirror_mode": {
    "name": "ipython",
    "version": 3
   },
   "file_extension": ".py",
   "mimetype": "text/x-python",
   "name": "python",
   "nbconvert_exporter": "python",
   "pygments_lexer": "ipython3",
   "version": "3.7.2"
  }
 },
 "nbformat": 4,
 "nbformat_minor": 2
}
